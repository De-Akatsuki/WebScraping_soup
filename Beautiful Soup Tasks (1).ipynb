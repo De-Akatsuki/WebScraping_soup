{
 "cells": [
  {
   "cell_type": "markdown",
   "id": "1022f941-b420-429c-ab1e-10d8b06d2263",
   "metadata": {},
   "source": [
    "# Web Scrapping Using BeautifulSoup"
   ]
  },
  {
   "cell_type": "markdown",
   "id": "4279109c-dc92-4b86-a2e9-d7862df6c368",
   "metadata": {},
   "source": [
    "### This notebook is to try scrapping data off the web using BeautifulSoup in Python.The sources vary and my aim is to understand how it works overall."
   ]
  },
  {
   "cell_type": "markdown",
   "id": "c0c30a56-bf9c-47f6-9be4-23069b750d84",
   "metadata": {},
   "source": [
    "#### Scrapping Titles from a News Website (BBC)\n",
    "##### Objective: Extract and Display the titles of the last articles from the British Broadcasting Cooperations Website (BBC) as at 14/09/2024 - 12:44AM."
   ]
  },
  {
   "cell_type": "code",
   "execution_count": 34,
   "id": "26d5d9ae-e84d-4808-948e-7f1f3bea8339",
   "metadata": {},
   "outputs": [
    {
     "name": "stdout",
     "output_type": "stream",
     "text": [
      "News Titles on the 14th of September, 2024 at 12:56AM: \n",
      "1.US and British citizens among 37 sentenced to death in DR Congo coup trial\n",
      "2.Trump vows mass deportations from town rocked by 'pet-eating' lies\n",
      "3.US and British citizens among 37 sentenced to death in DR Congo coup trial\n",
      "4.Trump vows mass deportations from town rocked by 'pet-eating' lies\n",
      "5.No new pledge on Ukraine missiles after Starmer-Biden talks\n",
      "6.Pope urges Catholics to pick 'lesser evil' between Trump and Harris\n",
      "7.Being left behind was hard, say stranded astronauts\n",
      "8.Prince Harry: I was anxious about 30, I'm excited about 40\n",
      "9.US imposes new sanctions on Russian state media\n",
      "10.The US state where 'America drinks its way to health'\n",
      "11.Gladiator II to The Day of the Jackal: The best culture to look forward to this autumn\n",
      "12.Ukrainians warn of being surrounded as Russia advances in east\n",
      "13.Israeli special forces 'raid missile site in Syria'\n",
      "14.A baby hippo is going viral - and paying the price\n",
      "15.North Korea releases rare photos of Kim at uranium facility\n",
      "16.Ukrainians warn of being surrounded as Russia advances in east\n",
      "17.Central Europe braced for worst flooding in years\n",
      "18.Timberlake pleads guilty in drink-drive court deal\n",
      "19.China raises retirement age for first time since 1950s\n",
      "20.Israeli special forces 'raid missile site in Syria'\n",
      "21.Trump repeats baseless claim about Haitian immigrants eating pets \n",
      "22.US election polls: Who is ahead - Harris or Trump?\n",
      "23.What are Storm Shadow missiles and why are they crucial for Ukraine?\n",
      "24.Laura Loomer: Who is conspiracy theorist travelling with Trump? \n",
      "25.'Substantial increase' in drugs coming into Ireland\n",
      "26.Comoros president injured in knife attack\n",
      "27.US claim record four-point Solheim Cup lead over Europe\n",
      "28.Livingstone downs Australia as England level T20 series\n",
      "29.Premier League rivals want to see us punished - Guardiola\n",
      "30.Pochettino targets World Cup win and praises 'best coach in world' Hayes\n",
      "31.Billionaire investor warns of threat to democracy\n",
      "32.New US shipping rules target China's Shein and Temu \n",
      "33.Boeing workers strike as they reject 25% pay rise\n",
      "34.New beanless 'coffee' emerges but does it taste any good?\n",
      "35.'Space is my happy place,' says stranded astronaut\n",
      "36.Cristiano Ronaldo hits 1bn social media followers\n",
      "37.How much will AI help in the next pandemic?\n",
      "38.'Earth sure looks like a perfect world': First private spacewalk a success\n",
      "39.Gladiator II to The Day of the Jackal: The best culture to look forward to this autumn\n",
      "40.Timberlake pleads guilty in drink-drive court deal\n",
      "41.'Vintage has become its own luxury status symbol'\n",
      "42.Oasis 'Supersonic' guitar sells for over £130K\n",
      "43.The US state where 'America drinks its way to health'\n",
      "44.Inside the spectacular 'Olympics' of the nomadic world\n",
      "45.Five of Sydney's best waterfront restaurants\n",
      "46.How water shaped New York City\n",
      "47.Central Europe braced for worst flooding in years\n",
      "48.Mystery tremors were from massive nine-day tsunami\n",
      "49.'Earth sure looks like a perfect world': First private spacewalk a success\n",
      "50.What are the Northern Lights?\n",
      "51.Bulgaria's valley of Thracian Kings and Damask roses\n",
      "52.The Bahamas: The last lighthouse of its kind\n",
      "53.Protecting Thailand's famous 'paradise beach'\n",
      "54.Earth's spectacular and remote 'capital' of lightning\n",
      "55.World of Business\n",
      "56.US Election Unspun\n",
      "57.The Essential List\n",
      "58.News Briefing\n",
      "59.Laura Loomer: Who is conspiracy theorist travelling with Trump? \n",
      "60.Trump vows mass deportations from town rocked by 'pet-eating' lies\n",
      "61.Pope urges Catholics to pick 'lesser evil' between Trump and Harris\n",
      "62.US election polls: Who is ahead - Harris or Trump?\n",
      "63.Jury discharged in Pro-Palestine protest trial\n",
      "64.Israeli special forces 'raid missile site in Syria'\n",
      "65.UN says Israeli strike on Gaza school killed six of its staff\n",
      "66.Israeli strikes in West Bank kill eight Palestinians, paramedics say\n",
      "67.What are Storm Shadow missiles and why are they crucial for Ukraine?\n",
      "68.Ukrainians warn of being surrounded as Russia advances in east\n",
      "69.No new pledge on Ukraine missiles after Starmer-Biden talks\n",
      "70.US imposes new sanctions on Russian state media\n",
      "71.Stephen Lawrence would have been 50 today. Is there still a chance to get justice for him?\n",
      "72.The great gene editing debate: Can it be safe and ethical?\n",
      "73.A tent city next to Mayfair: Why cutting homelessness might be harder than before\n",
      "74.Why is the Pope doing a long tour when he's so frail?\n"
     ]
    }
   ],
   "source": [
    "# import libraries\n",
    "from bs4 import BeautifulSoup #used for parsing the HTTP requests\n",
    "import requests #used to make HTTP requests (Client to Server)\n",
    "import pandas as pd #imported to put the scrapped data into a dataframe(df)\n",
    "\n",
    "# sending a GET request to the BBC site for the webpage\n",
    "\n",
    "url = 'https://www.bbc.com/'\n",
    "response = requests.get(url)\n",
    "\n",
    "#parsing the HTML using BeautifulSoup\n",
    "soup= BeautifulSoup(response.text, 'html.parser')\n",
    "\n",
    "# finding and extracting the titles by inspecting the webpage to find the html tags and classes where titles\n",
    "titles = soup.find_all('h2' , class_ = [\"sc-4fedabc7-3 eVkEgC\", \"sc-4fedabc7-3 zTZri\"])\n",
    "\n",
    "#printing the article titles\n",
    "print(\"News Titles on the 14th of September, 2024 at 12:56AM: \")\n",
    "for idx, title in enumerate(titles):\n",
    "    print(f\"{idx + 1}.{title.get_text()}\")"
   ]
  },
  {
   "cell_type": "code",
   "execution_count": 134,
   "id": "c0312bd7-0477-49eb-9108-017ca1c3d740",
   "metadata": {},
   "outputs": [
    {
     "name": "stdout",
     "output_type": "stream",
     "text": [
      "<class 'pandas.core.frame.DataFrame'>\n",
      "RangeIndex: 0 entries\n",
      "Data columns (total 3 columns):\n",
      " #   Column     Non-Null Count  Dtype  \n",
      "---  ------     --------------  -----  \n",
      " 0   Job Title  0 non-null      float64\n",
      " 1   Company    0 non-null      float64\n",
      " 2   Location   0 non-null      float64\n",
      "dtypes: float64(3)\n",
      "memory usage: 132.0 bytes\n"
     ]
    }
   ],
   "source": [
    "df.info() #using pandas we can get to know the type of data (Obje)"
   ]
  }
 ],
 "metadata": {
  "kernelspec": {
   "display_name": "Python 3 (ipykernel)",
   "language": "python",
   "name": "python3"
  },
  "language_info": {
   "codemirror_mode": {
    "name": "ipython",
    "version": 3
   },
   "file_extension": ".py",
   "mimetype": "text/x-python",
   "name": "python",
   "nbconvert_exporter": "python",
   "pygments_lexer": "ipython3",
   "version": "3.12.4"
  }
 },
 "nbformat": 4,
 "nbformat_minor": 5
}
